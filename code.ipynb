{
  "nbformat": 4,
  "nbformat_minor": 0,
  "metadata": {
    "colab": {
      "name": "Copy of 462-phase3.ipynb",
      "provenance": [],
      "collapsed_sections": []
    },
    "kernelspec": {
      "name": "python3",
      "display_name": "Python 3"
    },
    "language_info": {
      "name": "python"
    }
  },
  "cells": [
    {
      "cell_type": "markdown",
      "source": [
        ""
      ],
      "metadata": {
        "id": "8FLgXfIahhQl"
      }
    },
    {
      "cell_type": "markdown",
      "source": [
        "# 1 - a \n",
        "![WhatsApp Image 2022-06-01 at 8 10 03 PM](https://user-images.githubusercontent.com/47869761/173117303-781e19aa-d06e-4ff1-aee9-b2fff883eae1.jpeg)\n"
      ],
      "metadata": {
        "id": "ZN1KGsfDhhOU"
      }
    },
    {
      "cell_type": "markdown",
      "source": [
        "# 1 - b\n",
        "![WhatsApp Image 2022-06-01 at 8 20 31 PM](https://user-images.githubusercontent.com/47869761/173119464-05b3a8ee-16f5-4fae-ae0d-cb7ca7ae40c7.jpeg)\n"
      ],
      "metadata": {
        "id": "-IJ0d-4-mYfp"
      }
    },
    {
      "cell_type": "markdown",
      "source": [
        "# 1 - c"
      ],
      "metadata": {
        "id": "C6QFBMdQmfj9"
      }
    },
    {
      "cell_type": "code",
      "source": [
        "import numpy as np\n",
        "\n",
        "from cvxopt import matrix, solvers\n",
        "# given data\n",
        "X = np.array([[0., 0.], [0., -1.], [-2., 0.]])\n",
        "y = np.array([-1., -1., 1.]).reshape(-1,1)\n",
        "# reference: https://python.plainenglish.io/introducing-python-package-cvxopt-implementing-svm-from-scratch-dc40dda1da1f\n",
        "# reference: https://xavierbourretsicotte.github.io/SVM_implementation.html\n",
        "# reference: https://cvxopt.org/examples/tutorial/qp.html\n",
        "P = matrix(y * X @ (y * X).T)\n",
        "q = matrix(-np.ones((3, 1)))\n",
        "G = matrix(np.vstack((np.identity(3)*-1,np.identity(3))))\n",
        "h = matrix(np.hstack((np.zeros(3), np.ones(3))))\n",
        "A = matrix(y.reshape(1, -1))\n",
        "b = matrix(np.zeros(1))\n",
        "#define a solver\n",
        "sol = solvers.qp(P, q, G, h, A, b)\n",
        "#find alphas\n",
        "print(sol['x'])\n",
        "# first is w1, second is w2, last one is b"
      ],
      "metadata": {
        "colab": {
          "base_uri": "https://localhost:8080/"
        },
        "id": "-wEkOAsCqXCJ",
        "outputId": "603ba2b6-6e42-4386-a928-9015f0485cfe"
      },
      "execution_count": 82,
      "outputs": [
        {
          "output_type": "stream",
          "name": "stdout",
          "text": [
            "     pcost       dcost       gap    pres   dres\n",
            " 0: -4.6914e-01 -4.0864e+00  4e+00  1e-16  7e-16\n",
            " 1: -4.8281e-01 -6.3400e-01  2e-01  8e-17  3e-16\n",
            " 2: -4.9677e-01 -5.0962e-01  1e-02  2e-16  4e-17\n",
            " 3: -4.9956e-01 -5.0059e-01  1e-03  1e-16  4e-17\n",
            " 4: -4.9994e-01 -5.0007e-01  1e-04  1e-16  7e-17\n",
            " 5: -4.9999e-01 -5.0001e-01  2e-05  6e-17  5e-17\n",
            " 6: -5.0000e-01 -5.0000e-01  3e-06  2e-16  6e-17\n",
            " 7: -5.0000e-01 -5.0000e-01  4e-07  2e-16  1e-16\n",
            "Optimal solution found.\n",
            "[ 4.99e-01]\n",
            "[ 5.94e-04]\n",
            "[ 5.00e-01]\n",
            "\n"
          ]
        }
      ]
    },
    {
      "cell_type": "markdown",
      "source": [
        "### Results show that w1 = -0.5, w2 = 0, b = -0.5\n",
        "### If we scale these numbers by multiplying with 2 we will get the result we obtained in (b) section.\n"
      ],
      "metadata": {
        "id": "H1xQDMforoQG"
      }
    },
    {
      "cell_type": "markdown",
      "source": [
        "# 1 - d"
      ],
      "metadata": {
        "id": "3iLduy8RsFoG"
      }
    },
    {
      "cell_type": "markdown",
      "source": [
        "### train-predict functions"
      ],
      "metadata": {
        "id": "MoziszHBcrwj"
      }
    },
    {
      "cell_type": "code",
      "source": [
        "from PIL import Image, ImageOps\n",
        "from numpy import array, asarray\n",
        "import numpy as np, pandas as pd\n",
        "from sklearn.decomposition import PCA\n",
        "import numpy as np\n",
        "from cvxopt import matrix, solvers\n",
        "from sklearn import svm\n",
        "import pickle\n",
        "\n",
        "\n",
        "\n",
        "def svm_train_dual(X, Y):\n",
        "    y = Y.reshape(-1, 1) * 1.\n",
        "    n,d = X.shape\n",
        "    Q = np.identity(d+1)\n",
        "    Q[0][0] = 0\n",
        "    Q = matrix(Q)\n",
        "    p = matrix(np.zeros(d+1))\n",
        "    c = matrix(np.ones(n))\n",
        "    A = []\n",
        "    for _x, _y in zip(X,y):\n",
        "        if _y < 0:\n",
        "            _a = [*_y, *-_x]\n",
        "        else:\n",
        "            _a = [*_y, *_x]\n",
        "        A.append(np.array(_a))\n",
        "    A = np.array(A)\n",
        "\n",
        "    print(A.shape)\n",
        "    A = A.astype(np.double)\n",
        "    A = matrix(A)\n",
        "    # define a solver\n",
        "    #sol = solvers.qp(P, q, G, h, A, b)\n",
        "    sol = solvers.qp(Q,p,A,c)\n",
        "    with open('sol.pkl', 'wb') as handle:\n",
        "      pickle.dump(sol, handle, protocol=pickle.HIGHEST_PROTOCOL)\n",
        "    return sol['x'][1:], sol['x'][0]\n",
        "\n",
        "\n",
        "def predict(X, y, W, b):\n",
        "    right_pred = 0\n",
        "    length = X.shape[0]\n",
        "    for i in range(length):\n",
        "        y_pred = np.sign(np.array(X[i]).T @ W + b)[0]\n",
        "        if y_pred == y[i]:\n",
        "            right_pred = right_pred + 1\n",
        "    accuracy = right_pred / length\n",
        "    return accuracy\n"
      ],
      "metadata": {
        "id": "r9IfP_4TwVsn"
      },
      "execution_count": 87,
      "outputs": []
    },
    {
      "cell_type": "code",
      "source": [
        "\"\"\" to load files from drive to colab environment\n",
        "! gdown --id 154idaHx-5YMxbke4dCInF-0z17W9LUwu\n",
        "! gdown --id 1LqVKfOKDHEPcM1sR4X7M0qxUbyXdEWBU\n",
        "! gdown --id 1BUO6ojkMneIzKjlGZkl5f4vUOfK1iT4a\n",
        "! gdown --id 19lrNcCUpEmzf8McDMyCQqn4qWb7tLRsM\n",
        "import zipfile\n",
        "with zipfile.ZipFile(\"/content/Archive.zip\",\"r\") as zip_ref:\n",
        "    zip_ref.extractall(\"/content/\")\n",
        "\"\"\""
      ],
      "metadata": {
        "colab": {
          "base_uri": "https://localhost:8080/",
          "height": 71
        },
        "id": "twXDbNzOczFm",
        "outputId": "0314d29b-e382-4d51-e51b-2c77ed93db21"
      },
      "execution_count": 84,
      "outputs": [
        {
          "output_type": "execute_result",
          "data": {
            "text/plain": [
              "' to load files from drive to colab environment\\n! gdown --id 154idaHx-5YMxbke4dCInF-0z17W9LUwu\\n! gdown --id 1LqVKfOKDHEPcM1sR4X7M0qxUbyXdEWBU\\n! gdown --id 1BUO6ojkMneIzKjlGZkl5f4vUOfK1iT4a\\n! gdown --id 19lrNcCUpEmzf8McDMyCQqn4qWb7tLRsM\\nimport zipfile\\nwith zipfile.ZipFile(\"/content/Archive.zip\",\"r\") as zip_ref:\\n    zip_ref.extractall(\"/content/\")\\n'"
            ],
            "application/vnd.google.colaboratory.intrinsic+json": {
              "type": "string"
            }
          },
          "metadata": {},
          "execution_count": 84
        }
      ]
    },
    {
      "cell_type": "markdown",
      "source": [
        "### prepare x and y values\n"
      ],
      "metadata": {
        "id": "IxzTLZXBtRPB"
      }
    },
    {
      "cell_type": "code",
      "source": [
        "image_matrix = []\n",
        "image_test_matrix = []\n",
        "\n",
        "for i in range(1000):\n",
        "    im = Image.open(\"3dshapes_test/\" + str(i) + \".jpg\")\n",
        "    gray_image = ImageOps.grayscale(im)\n",
        "    g_array = array(gray_image)\n",
        "    fg = g_array.flatten()\n",
        "    fg = fg.reshape(1, 4096)\n",
        "    image_test_matrix.append(fg[0])\n",
        "\n",
        "image_test_matrix = asarray(image_test_matrix, dtype='float64')\n",
        "\n",
        "for j in range(10000):\n",
        "    im = Image.open(\"3dshapes_train/\" + str(j) + \".jpg\")\n",
        "    gray_image = ImageOps.grayscale(im)\n",
        "\n",
        "    g_array = array(gray_image)\n",
        "    fg = g_array.flatten()\n",
        "    fg = fg.reshape(1, 4096)\n",
        "\n",
        "    image_matrix.append(fg[0])\n",
        "\n",
        "# image_matrix is the desired matrix of size 10000x4096 PART A\n",
        "image_matrix = asarray(image_matrix, dtype='float64')\n",
        "\n",
        "\n",
        "yvalues = np.load('orientations_train.npy')\n",
        "y_testvalues = np.load('orientations_test.npy')\n",
        "twoclass_yvalues = np.array([(1 if i > 0 else -1) for i in yvalues])\n",
        "twoclass_y_testvalues = np.array([(1 if i > 0 else -1) for i in y_testvalues])"
      ],
      "metadata": {
        "id": "C2HAIDQEc402"
      },
      "execution_count": 85,
      "outputs": []
    },
    {
      "cell_type": "markdown",
      "source": [
        "#### no pca\n"
      ],
      "metadata": {
        "id": "6-i5LB2ScvG3"
      }
    },
    {
      "cell_type": "code",
      "source": [
        "X = image_matrix\n",
        "X_test = image_test_matrix\n",
        "W, b = svm_train_dual(X, twoclass_yvalues)\n",
        "print(\"accuracy:\",predict(X_test, twoclass_y_testvalues, W, b))\n"
      ],
      "metadata": {
        "id": "-atEFvU41uzF",
        "outputId": "9b0780b6-4d5f-4486-b587-275992562e29",
        "colab": {
          "base_uri": "https://localhost:8080/"
        }
      },
      "execution_count": 88,
      "outputs": [
        {
          "output_type": "stream",
          "name": "stdout",
          "text": [
            "(10000, 4097)\n",
            "     pcost       dcost       gap    pres   dres\n",
            " 0:  1.3334e-02 -1.4330e-02  1e+04  1e+00  8e+06\n",
            " 1:  2.3278e-04 -1.2580e+02  1e+02  1e-02  1e+05\n",
            " 2:  5.6810e-07 -1.3305e+00  1e+00  1e-04  1e+03\n",
            " 3:  6.6279e-08 -1.4048e-02  1e-02  1e-06  1e+01\n",
            " 4:  1.1770e-08 -1.6125e-04  2e-04  2e-08  1e-01\n",
            " 5:  4.9063e-10 -1.8735e-06  2e-06  2e-10  1e-03\n",
            " 6:  2.9941e-12 -2.3328e-08  2e-08  2e-12  1e-05\n",
            " 7:  3.0370e-16 -2.3368e-10  2e-10  2e-14  1e-07\n",
            " 8:  3.0370e-20 -2.3368e-12  2e-12  3e-15  1e-09\n",
            "Optimal solution found.\n",
            "accuracy: 0.494\n"
          ]
        }
      ]
    },
    {
      "cell_type": "markdown",
      "source": [
        "### pca n = 2"
      ],
      "metadata": {
        "id": "xFsZ2mW5dFQE"
      }
    },
    {
      "cell_type": "code",
      "source": [
        "# n_components can change according to desired feature number\n",
        "pca2 = PCA(n_components=2)\n",
        "pca2.fit(image_matrix)\n",
        "image_matrix_reducted = pca2.transform(image_matrix)\n",
        "test_values_reducted = pca2.transform(image_test_matrix)\n",
        "X = image_matrix_reducted\n",
        "X_test = test_values_reducted\n",
        "\n",
        "W, b = svm_train_dual(X, twoclass_yvalues)\n",
        "print(\"explained variance ratio:\", sum(pca2.explained_variance_ratio_))\n",
        "print(\"accuracy:\",predict(X_test, twoclass_y_testvalues, W, b))\n"
      ],
      "metadata": {
        "colab": {
          "base_uri": "https://localhost:8080/"
        },
        "id": "3M7vzDkNdE6Z",
        "outputId": "8374d6dd-6526-4f00-bd22-b2f4194c21f3"
      },
      "execution_count": 89,
      "outputs": [
        {
          "output_type": "stream",
          "name": "stdout",
          "text": [
            "(10000, 3)\n",
            "     pcost       dcost       gap    pres   dres\n",
            " 0:  4.2283e-12 -1.0746e+04  1e+04  7e-17  2e+05\n",
            " 1:  4.2283e-12 -1.0746e+02  1e+02  2e-16  2e+03\n",
            " 2:  4.2283e-12 -1.0746e+00  1e+00  2e-16  2e+01\n",
            " 3:  4.2283e-12 -1.0746e-02  1e-02  2e-16  2e-01\n",
            " 4:  4.2277e-12 -1.0747e-04  1e-04  2e-16  2e-03\n",
            " 5:  4.1692e-12 -1.0795e-06  1e-06  2e-16  2e-05\n",
            " 6:  1.2778e-12 -1.3448e-08  1e-08  2e-16  2e-07\n",
            " 7:  1.6492e-16 -1.3717e-10  1e-10  2e-16  2e-09\n",
            "Optimal solution found.\n",
            "explained variance ratio: 0.7028516596887746\n",
            "accuracy: 0.506\n"
          ]
        }
      ]
    },
    {
      "cell_type": "markdown",
      "source": [
        "### pca n = 50"
      ],
      "metadata": {
        "id": "UX7H1iHQdFmc"
      }
    },
    {
      "cell_type": "code",
      "source": [
        "# n_components can change according to desired feature number\n",
        "pca50 = PCA(n_components=50)\n",
        "pca50.fit(image_matrix)\n",
        "image_matrix_reducted = pca50.transform(image_matrix)\n",
        "test_values_reducted = pca50.transform(image_test_matrix)\n",
        "X = image_matrix_reducted\n",
        "X_test = test_values_reducted\n",
        "print(\"y values and counts:\",np.unique(twoclass_yvalues,return_counts=True))"
      ],
      "metadata": {
        "colab": {
          "base_uri": "https://localhost:8080/"
        },
        "id": "Gx3jLLmBf9kI",
        "outputId": "a1b52b15-1f0a-4d57-fbae-d9ec0fa9a535"
      },
      "execution_count": 90,
      "outputs": [
        {
          "output_type": "stream",
          "name": "stdout",
          "text": [
            "y values and counts: (array([-1,  1]), array([5336, 4664]))\n"
          ]
        }
      ]
    },
    {
      "cell_type": "code",
      "source": [
        "W, b = svm_train_dual(X, twoclass_yvalues)\n",
        "print(\"explained variance ratio:\", sum(pca50.explained_variance_ratio_))\n",
        "print(\"accuracy:\",predict(X_test, twoclass_y_testvalues, W, b))\n"
      ],
      "metadata": {
        "colab": {
          "base_uri": "https://localhost:8080/"
        },
        "id": "frtVch7rdE4G",
        "outputId": "aa1b450f-560f-421d-c192-68a1f8f94028"
      },
      "execution_count": 91,
      "outputs": [
        {
          "output_type": "stream",
          "name": "stdout",
          "text": [
            "(10000, 51)\n",
            "     pcost       dcost       gap    pres   dres\n",
            " 0:  7.4116e-06 -9.4392e+02  3e+04  2e+00  9e+06\n",
            " 1:  1.3443e-06 -3.5586e+03  4e+03  2e-01  1e+06\n",
            " 2:  3.2700e-06 -6.8037e+01  7e+01  3e-03  2e+04\n",
            " 3:  3.3139e-06 -6.8164e-01  7e-01  3e-05  2e+02\n",
            " 4:  3.3064e-06 -6.9572e-03  7e-03  3e-07  2e+00\n",
            " 5:  2.6975e-06 -1.7961e-04  2e-04  7e-09  4e-02\n",
            " 6:  7.0221e-07 -8.1674e-06  9e-06  1e-10  8e-04\n",
            " 7:  2.8031e-08 -6.3041e-07  7e-07  3e-12  2e-05\n",
            " 8:  4.3443e-11 -1.9451e-08  2e-08  5e-14  3e-07\n",
            " 9:  4.6899e-15 -1.9988e-10  2e-10  5e-16  3e-09\n",
            "Optimal solution found.\n",
            "explained variance ratio: 0.9845905550049798\n",
            "accuracy: 0.494\n"
          ]
        }
      ]
    },
    {
      "cell_type": "markdown",
      "source": [
        "# 1 - e"
      ],
      "metadata": {
        "id": "CJ5GA0swpw4Q"
      }
    },
    {
      "cell_type": "markdown",
      "source": [
        "## library svm with pca\n"
      ],
      "metadata": {
        "id": "7QeqSwhGdBlu"
      }
    },
    {
      "cell_type": "code",
      "source": [
        "# n_components can change according to desired feature number\n",
        "pca50 = PCA(n_components=50)\n",
        "pca50.fit(image_matrix)\n",
        "image_matrix_reducted = pca50.transform(image_matrix)\n",
        "test_values_reducted = pca50.transform(image_test_matrix)\n",
        "X = image_matrix_reducted\n",
        "X_test = test_values_reducted\n",
        "print(\"y values and counts:\",np.unique(twoclass_yvalues,return_counts=True))"
      ],
      "metadata": {
        "colab": {
          "base_uri": "https://localhost:8080/"
        },
        "id": "gWK0wx8DwUDe",
        "outputId": "8894c38d-9940-43ce-a980-e082aa03982b"
      },
      "execution_count": 92,
      "outputs": [
        {
          "output_type": "stream",
          "name": "stdout",
          "text": [
            "y values and counts: (array([-1,  1]), array([5336, 4664]))\n"
          ]
        }
      ]
    },
    {
      "cell_type": "code",
      "source": [
        "classifier = svm.SVC()\n",
        "classifier.fit(X, twoclass_yvalues)\n",
        "y_pred = classifier.predict(X_test)\n",
        "count = 0\n",
        "for i in range(len(y_pred)):\n",
        "    if twoclass_y_testvalues[i] != y_pred[i]:\n",
        "        count += 1\n",
        "\n",
        "percentage = float(100 - float((count / X_test.shape[0]) * 100))/100\n",
        "print(\"Number of mislabeled points out of a total %d points : %d\" % (X_test.shape[0], count))\n",
        "print(\"Test classification accuracy: %.2f\" % percentage)"
      ],
      "metadata": {
        "colab": {
          "base_uri": "https://localhost:8080/"
        },
        "id": "Gfnh62inwT79",
        "outputId": "d2b91834-b702-4ae5-be49-11daa6531fc8"
      },
      "execution_count": 93,
      "outputs": [
        {
          "output_type": "stream",
          "name": "stdout",
          "text": [
            "Number of mislabeled points out of a total 1000 points : 7\n",
            "Test classification accuracy: 0.99\n"
          ]
        }
      ]
    },
    {
      "cell_type": "markdown",
      "source": [
        "### library svm without pca"
      ],
      "metadata": {
        "id": "_jUMSoZtwV34"
      }
    },
    {
      "cell_type": "code",
      "source": [
        "X = image_matrix\n",
        "X_test = image_test_matrix\n",
        "classifier = svm.SVC()\n",
        "classifier.fit(X, twoclass_yvalues)\n",
        "y_pred = classifier.predict(X_test)\n",
        "count = 0\n",
        "for i in range(len(y_pred)):\n",
        "    if twoclass_y_testvalues[i] != y_pred[i]:\n",
        "        count += 1\n",
        "\n",
        "percentage = float(100 - float((count / X_test.shape[0]) * 100))/100\n",
        "print(\"Number of mislabeled points out of a total %d points : %d\" % (X_test.shape[0], count))\n",
        "print(\"Test classification accuracy: %.2f\" % percentage)"
      ],
      "metadata": {
        "colab": {
          "base_uri": "https://localhost:8080/"
        },
        "id": "PhGp92YXdDa4",
        "outputId": "e974444c-1c25-4aa0-801a-09aea970240d"
      },
      "execution_count": 94,
      "outputs": [
        {
          "output_type": "stream",
          "name": "stdout",
          "text": [
            "Number of mislabeled points out of a total 1000 points : 0\n",
            "Test classification accuracy: 1.00\n"
          ]
        }
      ]
    },
    {
      "cell_type": "markdown",
      "source": [
        "* It's way faster than cvxopt library\n",
        "* Also we do not waste time on preparing Q,P,A,c variables.\n",
        "* According to the [official documentation](https://scikit-learn.org/stable/modules/svm.html#svm-mathematical-formulation), SVC converts soft margin primal problem to dual problems. Then implicitly maps training vectors to higher dimension using kernel trick. (rbf is default kernel trick function).\n",
        "    * We also used linear kernel trick option, and it did better than rbf.\n",
        "* Once it solves the optimization problem, it gives the decision functions as sum of (y[i] * alpha[i] * K(x[i],x))+b"
      ],
      "metadata": {
        "id": "tn4q6xnitnV3"
      }
    },
    {
      "cell_type": "markdown",
      "source": [
        "# 1 - f"
      ],
      "metadata": {
        "id": "cc9Ozpn4qDj0"
      }
    },
    {
      "cell_type": "markdown",
      "source": [
        "## library svm with multiclass\n"
      ],
      "metadata": {
        "id": "gjSmgrgTplXy"
      }
    },
    {
      "cell_type": "code",
      "source": [
        "unique_list_y = list(set(yvalues))\n",
        "unique_list_y_test = list(set(y_testvalues))\n",
        "encoded_yvalues = np.array([unique_list_y.index(i) for i in yvalues])\n",
        "encoded_y_testvalues = np.array([unique_list_y_test.index(i) for i in y_testvalues])\n"
      ],
      "metadata": {
        "id": "61o-QjkuplH9"
      },
      "execution_count": 95,
      "outputs": []
    },
    {
      "cell_type": "markdown",
      "source": [
        "### library svm multiclass without kernel trick"
      ],
      "metadata": {
        "id": "AMZuUcPGqvWw"
      }
    },
    {
      "cell_type": "code",
      "source": [
        "X = image_matrix\n",
        "X_test = image_test_matrix\n",
        "classifier = svm.SVC()\n",
        "classifier.fit(X, encoded_yvalues)\n",
        "y_pred = classifier.predict(X_test)\n",
        "#print(y_pred)\n",
        "count = 0\n",
        "for i in range(len(y_pred)):\n",
        "    if encoded_y_testvalues[i] != y_pred[i]:\n",
        "        count = count + 1\n",
        "percentage = float(100 - float((count / X_test.shape[0]) * 100))/100\n",
        "print(\"Number of mislabeled points out of a total %d points : %d\" % (X_test.shape[0], count))\n",
        "print(\"Test classification accuracy: %.2f\" % percentage)"
      ],
      "metadata": {
        "colab": {
          "base_uri": "https://localhost:8080/"
        },
        "id": "a2SJdscRao3C",
        "outputId": "92ae3efa-a62a-4b68-c88e-5e2e0c71ecc6"
      },
      "execution_count": 96,
      "outputs": [
        {
          "output_type": "stream",
          "name": "stdout",
          "text": [
            "Number of mislabeled points out of a total 1000 points : 4\n",
            "Test classification accuracy: 1.00\n"
          ]
        }
      ]
    },
    {
      "cell_type": "markdown",
      "source": [
        "### library svm multiclass with linear kernel"
      ],
      "metadata": {
        "id": "xLG7h0Amql2n"
      }
    },
    {
      "cell_type": "code",
      "source": [
        "X = image_matrix\n",
        "X_test = image_test_matrix\n",
        "classifier = svm.SVC(kernel=\"linear\")\n",
        "classifier.fit(X, encoded_yvalues)\n",
        "y_pred = classifier.predict(X_test)\n",
        "#print(y_pred)\n",
        "\n",
        "count = 0\n",
        "\n",
        "for i in range(len(y_pred)):\n",
        "    if encoded_y_testvalues[i] != y_pred[i]:\n",
        "        count = count + 1\n",
        "\n",
        "percentage = float(100 - float((count / X_test.shape[0]) * 100))/100\n",
        "print(\"Number of mislabeled points out of a total %d points : %d\" % (X_test.shape[0], count))\n",
        "print(\"Test classification accuracy: %.2f\" % percentage)"
      ],
      "metadata": {
        "colab": {
          "base_uri": "https://localhost:8080/"
        },
        "id": "-1OjvGkpqjdv",
        "outputId": "06992209-d365-43da-a4f8-719bd144dad5"
      },
      "execution_count": 97,
      "outputs": [
        {
          "output_type": "stream",
          "name": "stdout",
          "text": [
            "Number of mislabeled points out of a total 1000 points : 0\n",
            "Test classification accuracy: 1.00\n"
          ]
        }
      ]
    },
    {
      "cell_type": "markdown",
      "source": [
        "* Here we get 0.97 accuracy score with rbf kernel and 1.00 accuracy score with linear kernel. Our best accuracy in phase-2 was 0.94 in 5-fold average of logistic regression.\n",
        "* There is a slight improvement with SVM with kernel-trick."
      ],
      "metadata": {
        "id": "5cr7bYssvabx"
      }
    },
    {
      "cell_type": "markdown",
      "source": [
        "# 1 - g\n",
        "\n",
        "* Our features were already obtained from Pca from phase 2.\n",
        "* We applied PCA with 2 and 50 number of components. Explained variance ratios are 0.7 and 0.98 respectively.\n",
        "* Computation time without applying PCa before SVM is much more since it uses more features."
      ],
      "metadata": {
        "id": "pvPr2CEKq4tZ"
      }
    },
    {
      "cell_type": "markdown",
      "source": [
        "# 1 - h\n",
        "* Best classifiers are sklearn SVM without PCA. \n",
        "* Since we lose some of the information with PCA, it's normal that it reduces accuracy. But there is a tradeoff here: We gain from computation time."
      ],
      "metadata": {
        "id": "6RMhrPyEw8kv"
      }
    },
    {
      "cell_type": "markdown",
      "source": [
        "# 2 - a Gaussian Mixture Models"
      ],
      "metadata": {
        "id": "U8Un_2qgbCXS"
      }
    },
    {
      "cell_type": "markdown",
      "source": [
        ""
      ],
      "metadata": {
        "id": "7yOBpPHDfDIu"
      }
    },
    {
      "cell_type": "code",
      "source": [
        "import numpy as np\n",
        "import math\n",
        "import matplotlib.pyplot as plt"
      ],
      "metadata": {
        "id": "ZNcJBmZdbvVl"
      },
      "execution_count": 98,
      "outputs": []
    },
    {
      "cell_type": "code",
      "source": [
        "# central limit theorem\n",
        "def inverse_sigmoid(values):\n",
        "    # if y = 1/(1+exp(-x)) then x = ln(y/(1-y))\n",
        "    return np.log(values/(1-values))\n"
      ],
      "metadata": {
        "id": "H-GXCaLnbAhg"
      },
      "execution_count": 99,
      "outputs": []
    },
    {
      "cell_type": "code",
      "source": [
        "def SampleGaussianMixture(size):\n",
        "    \"\"\" \n",
        "    Generates dataset by sampling Gaussian mixture distribution.\n",
        "      Mean and weights of the distributions are given below.\n",
        "    Size of the dataset is determined by 'size' argument.\n",
        "    \"\"\"\n",
        "    mu = [np.array([0, 1]), np.array([1, 0]),np.array([-1, 0]),np.array([0, -1])]\n",
        "    cov = np.array([[1, 0], [0, 1]])\n",
        "    pi = 0.25\n",
        "    cumulative_pi = [0.25,0.5,0.75,1]\n",
        "    X = []\n",
        "    for i in range(size):\n",
        "        r = np.random.uniform(0, 1)\n",
        "        for i, cdf in enumerate(cumulative_pi):\n",
        "            if r < cdf:\n",
        "                break\n",
        "        selected_mu = mu[i]\n",
        "        eigvals, eigvecs = np.linalg.eig(cov)\n",
        "        dimensions = len(eigvals)\n",
        "        # sampling from normal distribution\n",
        "        # transforming into multivariate distribution\n",
        "        y_s = np.random.uniform(0, 1, size=(dimensions*1, 4))\n",
        "        x_normal = np.mean(inverse_sigmoid(y_s), axis=1).reshape((-1, dimensions))\n",
        "        X.append(((x_normal*eigvals) @ eigvecs + selected_mu)[0].tolist())\n",
        "    plt.figure(figsize=(8, 6), dpi=80)\n",
        "    plt.scatter(np.array(X)[:,0], np.array(X)[:,1])\n",
        "    plt.scatter([0,0,1,-1],[-1,1,0,0], c='red')\n",
        "    plt.title(\"Initial Data \\n red points are means\")\n",
        "    plt.show()\n",
        "    return np.array(X)\n",
        "gaussian_mixture = SampleGaussianMixture(size=500)"
      ],
      "metadata": {
        "colab": {
          "base_uri": "https://localhost:8080/",
          "height": 444
        },
        "id": "4aXZH7R6bAfq",
        "outputId": "95462e96-72d8-4b9c-dfc2-f5b85fdbece4"
      },
      "execution_count": 100,
      "outputs": [
        {
          "output_type": "display_data",
          "data": {
            "text/plain": [
              "<Figure size 640x480 with 1 Axes>"
            ],
            "image/png": "[encoded data removed]"
          },
          "metadata": {
            "needs_background": "light"
          }
        }
      ]
    },
    {
      "cell_type": "markdown",
      "source": [
        "# 2 - b k-Means Clustering"
      ],
      "metadata": {
        "id": "vpv26YcYeWwG"
      }
    },
    {
      "cell_type": "code",
      "source": [
        "def euclideanDistSquared(point1, point2):\n",
        "    \"\"\"returns the euclidean distance between two points regardless of dimensionality\"\"\"\n",
        "    return sum([(dim_of_first - dim_of_second)**2 for dim_of_first, dim_of_second in zip(point1, point2)])"
      ],
      "metadata": {
        "id": "zahzekvcbAas"
      },
      "execution_count": 101,
      "outputs": []
    },
    {
      "cell_type": "code",
      "source": [
        "def kMeansInitialize(dataset, k, seed):\n",
        "    \"\"\" \n",
        "    First generates 'k' number of random centroids. Then labels dataset. \n",
        "    Then calculates new positions of centroids by taking the average of the data points belong to them. \n",
        "    If a centroid does not attract any data point, function returns -1 and called again.\n",
        "    Finally plots the initial positions of the centroids and the labeled datasets.\n",
        "    \"\"\"\n",
        "    np.random.seed(seed)\n",
        "\n",
        "    # initialize centroids randomly\n",
        "    centroids = np.random.rand(k, 2)  # rand creates numbers between 0 and 1\n",
        "    # map [0,1] to [min of datapoints, max of datapoints] for x axis\n",
        "    centroids[:, 0] = centroids[:, 0] * \\\n",
        "        (max(dataset[:, 0])-min(dataset[:, 0])) + min(dataset[:, 0])\n",
        "    # map [0,1] to [min of datapoints, max of datapoints] for y axis\n",
        "    centroids[:, 1] = centroids[:, 1] * \\\n",
        "        (max(dataset[:, 1])-min(dataset[:, 1])) + min(dataset[:, 1])\n",
        "    centroid_labels = np.array([i for i in range(k)])\n",
        "\n",
        "    # label datasets according to the closest centroid\n",
        "    dataset_labels = np.zeros(len(dataset), dtype=int)\n",
        "    point_idx = 0\n",
        "    for point in dataset:\n",
        "        centroid_idx = 0\n",
        "        min_distance = math.inf\n",
        "        for cluster_center in centroids:\n",
        "            if(euclideanDistSquared(cluster_center, point) < min_distance):\n",
        "                min_distance = euclideanDistSquared(cluster_center, point)\n",
        "                dataset_labels[point_idx] = centroid_idx\n",
        "            centroid_idx += 1\n",
        "        point_idx += 1\n",
        "\n",
        "    # if a centroid did not attract any data point return -1 so that caller function can call this function again.\n",
        "    for i in range(k):\n",
        "        if (dataset_labels == i).sum() == 0:\n",
        "            return -1\n",
        "\n",
        "    # update centroids by taking the average of datapoints belong to them\n",
        "    new_centroid_sums = [0]*k\n",
        "    point_idx = 0\n",
        "    for point in dataset:\n",
        "        new_centroid_sums[dataset_labels[point_idx]] += point\n",
        "        point_idx += 1\n",
        "    centroids = np.array([new_centroid_sums[i] / (dataset_labels == i).sum()\n",
        "                         for i in range(k)], dtype=float)\n",
        "\n",
        "    return centroids, centroid_labels, dataset_labels"
      ],
      "metadata": {
        "id": "S2CInJ8KbLqP"
      },
      "execution_count": 102,
      "outputs": []
    },
    {
      "cell_type": "code",
      "source": [
        "def plotTwoDimensionalWithOptionalColors(title, data1, data2, data1_for_color, data2_for_color):\n",
        "    \"\"\"\n",
        "    This function plots two different dataset to one figure. \n",
        "    First parameter is the name of the plot.\n",
        "    Second parameter is \"dataset\", third parameter is \"centroids\".\n",
        "    fourth and fifth parameters are for coloring.\n",
        "    \"\"\"\n",
        "    plt.figure(figsize=(8, 6), dpi=80)\n",
        "    plt.scatter(data1[:, 0], data1[:, 1], c=data1_for_color, vmin=min(\n",
        "        data1_for_color), vmax=max(data1_for_color), cmap='tab20')\n",
        "    plt.scatter(data2[:, 0], data2[:, 1],\n",
        "                c=data2_for_color, vmin=0, vmax=len(data2_for_color)-1, cmap='tab20b')\n",
        "    for x, y in zip(range(len(data2)), data2):\n",
        "        plt.text(y[0], y[1], x+1)\n",
        "    plt.scatter([0,0,1,-1],[-1,1,0,0], c='lime')\n",
        "\n",
        "    plt.title(title)\n",
        "    plt.show()"
      ],
      "metadata": {
        "id": "1bLw-2FEbLoN"
      },
      "execution_count": 103,
      "outputs": []
    },
    {
      "cell_type": "code",
      "source": [
        "def kMeans(dataset, k):\n",
        "    \"\"\"\n",
        "    This is the main function of the k-means algorithm.\n",
        "    Takes dataset and \"K\" value as parameters.\n",
        "\n",
        "    It first tries to initialize centroids. Since initialization function called with random seeds, \n",
        "    output may differ in each run. After successfully creation of centroids, initializes other variables.\n",
        "    Then the algorithm begins:\n",
        "      - For each data point, finds closest centroid and labels it.\n",
        "      - Updates the centroid by taking the average of datapoints belong to it.\n",
        "    Algorithm stops if Euclidean distance between two consecutive cluster centers (summed over all clusters) is less than the threshold (0.00001).\n",
        "    After the algorithm stops, it plots final result.\n",
        "    \"\"\"\n",
        "    initialized_val = kMeansInitialize( dataset, k, seed=10) ## first try with seed = 10, if fails try random seeds\n",
        "    # initialize clusters randomly until each of them has at least one data point\n",
        "    while initialized_val == -1:\n",
        "        initialized_val = kMeansInitialize(dataset, k, seed=np.random.randint(1000000))\n",
        "\n",
        "    centroids, centroid_labels, dataset_labels = initialized_val\n",
        "    prev_centroids = np.zeros([len(centroids), 2])\n",
        "    centroid_changes = []\n",
        "\n",
        "    step_count = 0\n",
        "    while True:\n",
        "        # label data points\n",
        "        point_idx = 0\n",
        "        for point in dataset:  # for each point\n",
        "            label = -1  # label is centroid_id\n",
        "            dist = math.inf  # dist is distance to centroids\n",
        "            centroid_idx = 0\n",
        "            for centroid in centroids:  # for each centroid\n",
        "                # calculate eacludian distance\n",
        "                temp = math.sqrt(euclideanDistSquared(centroid, point))\n",
        "                if temp < dist:  # find centroid with minimum distance\n",
        "                    dist = temp\n",
        "                    label = centroid_idx\n",
        "                centroid_idx += 1\n",
        "            dataset_labels[point_idx] = label  # assign centroid label to point\n",
        "            # find farthest point to centroid\n",
        "            point_idx += 1\n",
        "\n",
        "        ### calculate objective function\n",
        "        # instead of summing up all the combination of distances between datapoints,\n",
        "        # multiply (sum of distances between nodes and centroid) with 2 since they are same\n",
        "        current_obj_sum = 0\n",
        "        for point, label in zip(dataset, dataset_labels):\n",
        "            current_obj_sum += 2 * euclideanDistSquared(centroids[label], point)\n",
        "        \n",
        "        #### update centroids\n",
        "        # find sums of datapoints belong to centroids\n",
        "        new_centroid_sums = [0 for i in range(k)]\n",
        "        point_idx = 0\n",
        "        for point in dataset:\n",
        "            new_centroid_sums[dataset_labels[point_idx]] += point\n",
        "            point_idx += 1\n",
        "\n",
        "        # find average of datapoints belong to centroids, if no data point belong to a centroid, leave it unchanged\n",
        "        # but since we made sure there is at least a point while initializating, this probability is zero.\n",
        "        prev_centroids = centroids\n",
        "        centroids = np.array([new_centroid_sums[i] / (dataset_labels == i).sum() if (\n",
        "            dataset_labels == i).sum() != 0 else centroids[i] for i in range(k)])\n",
        "\n",
        "        # break condition: sum of the changes in centroid positions is less than a threshold value. 0.00001 in this case.\n",
        "        centroid_changes.append(sum([euclideanDistSquared(p, c) for p, c in zip(prev_centroids, centroids)]))\n",
        "        if centroid_changes[-1] < 1e-5:\n",
        "            break\n",
        "        step_count += 1\n",
        "\n",
        "    # Plot final result.\n",
        "    plotTwoDimensionalWithOptionalColors(\"Final clusters. Step size: {} \\n Green points means and number labeled points are cluster centers.\".format(str(step_count+1)), dataset, centroids, dataset_labels, centroid_labels)\n"
      ],
      "metadata": {
        "id": "8Q8di3yBbPaV"
      },
      "execution_count": 104,
      "outputs": []
    },
    {
      "cell_type": "code",
      "source": [
        "kMeans(dataset=gaussian_mixture, k=4)"
      ],
      "metadata": {
        "colab": {
          "base_uri": "https://localhost:8080/",
          "height": 444
        },
        "id": "hrO_LUYZHhmt",
        "outputId": "3a96fc60-70b8-46d1-a7c0-af4d4f70009b"
      },
      "execution_count": 105,
      "outputs": [
        {
          "output_type": "display_data",
          "data": {
            "text/plain": [
              "<Figure size 640x480 with 1 Axes>"
            ],
            "image/png": "[encoded data removed]"
          },
          "metadata": {
            "needs_background": "light"
          }
        }
      ]
    },
    {
      "cell_type": "markdown",
      "source": [
        "## Is the k-means able to correctly cluster the different components of the mixture?\n",
        "* Yes, it mostly captured clusters. Centroids are a bit further from original points(lime dots), but overall cluster results are perfect."
      ],
      "metadata": {
        "id": "Zrmomtho10io"
      }
    }
  ]
}